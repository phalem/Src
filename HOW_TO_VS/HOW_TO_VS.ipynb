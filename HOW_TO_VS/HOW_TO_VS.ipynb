{
 "cells": [
  {
   "cell_type": "code",
   "execution_count": null,
   "id": "1abb9105",
   "metadata": {},
   "outputs": [],
   "source": [
    "import pandas as pd \n",
    "csv_name = '.csv'\n",
    "df_copy= pd.read_csv(f'{csv_name}')\n",
    "df_copy"
   ]
  },
  {
   "cell_type": "markdown",
   "id": "8250a4bc",
   "metadata": {},
   "source": [
    "## All Active"
   ]
  },
  {
   "cell_type": "code",
   "execution_count": null,
   "id": "e731ae45",
   "metadata": {},
   "outputs": [],
   "source": [
    "df = df_copy.copy()\n",
    "feature= 'ALL_active'\n",
    "df = df[(df['RF_isactive_1'] == 1) & (df['SVM_isactive_1'] == 1)  & (df['ANN_isactive_1'] == 1) & (df['RF_isactive_2'] == 1) & (df['ANN_isactive_2'] == 1) & (df['Pos'] > 0.5 ) & (df['Pos_2'] > 0.5) & (df['RF_pic50_1'] > 7 ) & (df['RF_pic50_2'] > 7 ) & (df['predicted_pIC50'] > 7 ) & (df['predicted_pIC50_2'] > 7) & (df['dch_pic50'] >7 ) & (df['dch_pic50_2'] > 7 )]\n",
    "df\n",
    "# df.to_csv(f'Model/SrcTyr_with_valid_{feature}.csv', index=None)"
   ]
  },
  {
   "cell_type": "markdown",
   "id": "a29cb4ad",
   "metadata": {},
   "source": [
    "## All_isActive"
   ]
  },
  {
   "cell_type": "code",
   "execution_count": null,
   "id": "6723daa4",
   "metadata": {},
   "outputs": [],
   "source": [
    "df = df_copy.copy()\n",
    "feature= 'ALL_isactive'\n",
    "\n",
    "df = df[(df['RF_isactive_1'] == 1) & (df['SVM_isactive_1'] == 1)  & (df['ANN_isactive_1'] == 1) & (df['RF_isactive_2'] == 1) & (df['ANN_isactive_2'] == 1) & (df['Pos'] > 0.5 ) & (df['Pos_2'] > 0.5) ]\n",
    "# df\n",
    "df.to_csv(f'Model/SrcTyr_with_valid_{feature}.csv', index=None)"
   ]
  },
  {
   "cell_type": "markdown",
   "id": "40913204",
   "metadata": {},
   "source": [
    "# All_ic"
   ]
  },
  {
   "cell_type": "code",
   "execution_count": null,
   "id": "af85b45a",
   "metadata": {},
   "outputs": [],
   "source": [
    "df = df_copy.copy()\n",
    "feature= 'ALL_pic50'\n",
    "\n",
    "df = df[(df['RF_pic50_1'] > 7 ) & (df['RF_pic50_2'] > 7 )  & (df['predicted_pIC50'] > 7 ) & (df['predicted_pIC50_2'] > 7) & (df['dch_pic50'] >7 ) & (df['dch_pic50_2'] > 7 )]\n",
    "# df\n",
    "df.to_csv(f'Model/SrcTyr_with_valid_{feature}.csv', index=None)"
   ]
  },
  {
   "cell_type": "markdown",
   "id": "38c4bce6",
   "metadata": {},
   "source": [
    "## ML"
   ]
  },
  {
   "cell_type": "code",
   "execution_count": null,
   "id": "804325b0",
   "metadata": {},
   "outputs": [],
   "source": [
    "df = df_copy.copy()\n",
    "\n",
    "feature= 'RF'\n",
    "\n",
    "#RF\n",
    "df = df[(df['RF_isactive_1'] == 1)]\n",
    "# df\n",
    "df.to_csv(f'Model/SrcTyr_with_valid_{feature}.csv', index=None)"
   ]
  },
  {
   "cell_type": "code",
   "execution_count": null,
   "id": "a6795e5f",
   "metadata": {},
   "outputs": [],
   "source": [
    "df = df_copy.copy()\n",
    "\n",
    "feature= 'SVM'\n",
    "\n",
    "#SVM\n",
    "df = df[(df['SVM_isactive_1'] == 1)]\n",
    "# df\n",
    "df.to_csv(f'Model/SrcTyr_with_valid_{feature}.csv', index=None)"
   ]
  },
  {
   "cell_type": "code",
   "execution_count": null,
   "id": "96459b02",
   "metadata": {},
   "outputs": [],
   "source": [
    "df = df_copy.copy()\n",
    "\n",
    "\n",
    "feature= 'ANN'\n",
    "\n",
    "#ANN\n",
    "df = df[(df['ANN_isactive_1'] == 1)]\n",
    "# df\n",
    "# df.to_csv(f'Model/SrcTyr_with_valid_{feature}.csv', index=None)"
   ]
  },
  {
   "cell_type": "code",
   "execution_count": null,
   "id": "875b49a6",
   "metadata": {},
   "outputs": [],
   "source": [
    "df = df_copy.copy()\n",
    "\n",
    "feature= 'ALL_RF_SVM_ANN_MCCS'\n",
    "\n",
    "#MCCS\n",
    "df = df[(df['RF_isactive_1'] == 1) & (df['SVM_isactive_1'] == 1)  & (df['ANN_isactive_1'] == 1)]\n",
    "df.to_csv(f'Model/SrcTyr_with_valid_{feature}.csv', index=None)"
   ]
  },
  {
   "cell_type": "code",
   "execution_count": null,
   "id": "e448506f",
   "metadata": {},
   "outputs": [],
   "source": [
    "df = df_copy.copy()\n",
    "\n",
    "feature= 'RF_2'\n",
    "\n",
    "#RF_2\n",
    "df = df[(df['RF_isactive_2'] == 1)]\n",
    "df.to_csv(f'Model/SrcTyr_with_valid_{feature}.csv', index=None)"
   ]
  },
  {
   "cell_type": "code",
   "execution_count": null,
   "id": "49f4437d",
   "metadata": {},
   "outputs": [],
   "source": [
    "df = df_copy.copy()\n",
    "\n",
    "feature= 'ANN_2'\n",
    "\n",
    "#ANN_2\n",
    "df = df[(df['ANN_isactive_2'] == 1)]\n",
    "df.to_csv(f'Model/SrcTyr_with_valid_{feature}.csv', index=None)"
   ]
  },
  {
   "cell_type": "code",
   "execution_count": null,
   "id": "4b3b9cb4",
   "metadata": {},
   "outputs": [],
   "source": [
    "df = df_copy.copy()\n",
    "\n",
    "feature= 'ALL_RF2_ANN2_mrgn'\n",
    "\n",
    "#mrgn\n",
    "df = df[(df['RF_isactive_2'] == 1) & (df['ANN_isactive_2'] == 1) ]\n",
    "\n",
    "df.to_csv(f'Model/SrcTyr_with_valid_{feature}.csv', index=None)"
   ]
  },
  {
   "cell_type": "markdown",
   "id": "230968c2",
   "metadata": {},
   "source": [
    "## DL"
   ]
  },
  {
   "cell_type": "code",
   "execution_count": null,
   "id": "21a0f2c0",
   "metadata": {},
   "outputs": [],
   "source": [
    "df = df_copy.copy()\n",
    "\n",
    "feature= 'NN_MCCS'\n",
    "\n",
    "#NN_MCCS\n",
    "df = df[ (df['predicted_pIC50'] > 7 )]\n",
    "df.to_csv(f'Model/SrcTyr_with_valid_{feature}.csv', index=None)"
   ]
  },
  {
   "cell_type": "code",
   "execution_count": null,
   "id": "73605269",
   "metadata": {},
   "outputs": [],
   "source": [
    "df = df_copy.copy()\n",
    "\n",
    "feature= 'NN_MRGN'\n",
    "\n",
    "#NN_MRGN\n",
    "df = df[(df['predicted_pIC50_2'] > 7)]\n",
    "df.to_csv(f'Model/SrcTyr_with_valid_{feature}.csv', index=None)"
   ]
  },
  {
   "cell_type": "code",
   "execution_count": null,
   "id": "709a9220",
   "metadata": {},
   "outputs": [],
   "source": [
    "df = df_copy.copy()\n",
    "\n",
    "feature= 'NN_ALL'\n",
    "\n",
    "#NN_ALL\n",
    "df = df[(df['predicted_pIC50'] > 7 ) & (df['predicted_pIC50_2'] > 7)]\n",
    "df.to_csv(f'Model/SrcTyr_with_valid_{feature}.csv', index=None)"
   ]
  },
  {
   "cell_type": "code",
   "execution_count": null,
   "id": "c46b2424",
   "metadata": {},
   "outputs": [],
   "source": [
    "df = df_copy.copy()\n",
    "\n",
    "feature= 'pic50_RF_MCCS'\n",
    "\n",
    "#RF_MCCS\n",
    "df = df[(df['RF_pic50_1'] > 7 )]\n",
    "df.to_csv(f'Model/SrcTyr_with_valid_{feature}.csv', index=None)"
   ]
  },
  {
   "cell_type": "code",
   "execution_count": null,
   "id": "17f091e4",
   "metadata": {},
   "outputs": [],
   "source": [
    "df = df_copy.copy()\n",
    "\n",
    "feature= 'pic50_RF_MRGN'\n",
    "\n",
    "#RF_MRGN\n",
    "df = df[(df['RF_pic50_2'] > 7 )]\n",
    "df.to_csv(f'Model/SrcTyr_with_valid_{feature}.csv', index=None)"
   ]
  },
  {
   "cell_type": "code",
   "execution_count": null,
   "id": "a2c24a73",
   "metadata": {},
   "outputs": [],
   "source": [
    "df = df_copy.copy()\n",
    "\n",
    "feature= 'IS_ACTIVE_and_DL'\n",
    "\n",
    "#IS_ACTIVE + DL\n",
    "df = df[(df['RF_isactive_1'] == 1) & (df['SVM_isactive_1'] == 1)  & (df['ANN_isactive_1'] == 1) & (df['RF_isactive_2'] == 1) & (df['ANN_isactive_2'] == 1) & (df['RF_pic50_1'] > 7 ) & (df['RF_pic50_2'] > 7 ) & (df['predicted_pIC50'] > 7 ) & (df['predicted_pIC50_2'] > 7)]\n",
    "df.to_csv(f'Model/SrcTyr_with_valid_{feature}.csv', index=None)"
   ]
  },
  {
   "cell_type": "markdown",
   "id": "613c2985",
   "metadata": {},
   "source": [
    "## MCCS_ALL"
   ]
  },
  {
   "cell_type": "code",
   "execution_count": null,
   "id": "c048b263",
   "metadata": {},
   "outputs": [],
   "source": [
    "df = df_copy.copy()\n",
    "feature= 'MCCS_ALL'\n",
    "df = df[(df['RF_isactive_1'] == 1) & (df['SVM_isactive_1'] == 1)  & (df['ANN_isactive_1'] == 1) & (df['RF_pic50_1'] > 7 ) & (df['predicted_pIC50'] > 7 ) ]\n",
    "df.to_csv(f'Model/SrcTyr_with_valid_{feature}.csv', index=None)"
   ]
  },
  {
   "cell_type": "markdown",
   "id": "c2893c84",
   "metadata": {},
   "source": [
    "## MCCS_ALL_EXCEPT_RF_pIC"
   ]
  },
  {
   "cell_type": "code",
   "execution_count": null,
   "id": "62ed51da",
   "metadata": {},
   "outputs": [],
   "source": [
    "df = df_copy.copy()\n",
    "feature= 'MCCS_ALL_EXCEPT_RF_pIC'\n",
    "df = df[(df['RF_isactive_1'] == 1) & (df['SVM_isactive_1'] == 1)  & (df['ANN_isactive_1'] == 1) & (df['predicted_pIC50'] > 7 )]\n",
    "df.to_csv(f'Model/SrcTyr_with_valid_{feature}.csv', index=None)"
   ]
  },
  {
   "cell_type": "markdown",
   "id": "82bb10fe",
   "metadata": {},
   "source": [
    "## MRGN_ALL"
   ]
  },
  {
   "cell_type": "code",
   "execution_count": null,
   "id": "3e676f3a",
   "metadata": {},
   "outputs": [],
   "source": [
    "df = df_copy.copy()\n",
    "feature= 'MRGN_ALL'\n",
    "df = df[(df['RF_isactive_2'] == 1) & (df['ANN_isactive_2'] == 1) & (df['RF_pic50_2'] > 7 ) & (df['predicted_pIC50_2'] > 7)]\n",
    "df.to_csv(f'Model/SrcTyr_with_valid_{feature}.csv', index=None)"
   ]
  },
  {
   "cell_type": "markdown",
   "id": "1bf00a37",
   "metadata": {},
   "source": [
    "## GNN"
   ]
  },
  {
   "cell_type": "markdown",
   "id": "ca13ca61",
   "metadata": {},
   "source": [
    "### GNN_smiles\n"
   ]
  },
  {
   "cell_type": "code",
   "execution_count": null,
   "id": "6be4742d",
   "metadata": {},
   "outputs": [],
   "source": [
    "df = df_copy.copy()\n",
    "\n",
    "feature= 'GNN_SMI_ALL'\n",
    "\n",
    "#GNN_smi\n",
    "df = df[(df['Pos'] > 0.5 ) & (df['dch_pic50'] >7 ) ]\n",
    "df.to_csv(f'Model/SrcTyr_with_valid_{feature}.csv', index=None)"
   ]
  },
  {
   "cell_type": "code",
   "execution_count": null,
   "id": "d99aeca4",
   "metadata": {},
   "outputs": [],
   "source": [
    "df = df_copy.copy()\n",
    "\n",
    "feature= 'GNN_SMI_POST'\n",
    "\n",
    "#POST\n",
    "df = df[(df['Pos'] > 0.5 )]\n",
    "df.to_csv(f'Model/SrcTyr_with_valid_{feature}.csv', index=None)"
   ]
  },
  {
   "cell_type": "code",
   "execution_count": null,
   "id": "e7d417d1",
   "metadata": {},
   "outputs": [],
   "source": [
    "df = df_copy.copy()\n",
    "\n",
    "feature= 'GNN_SMI_pIC'\n",
    "\n",
    "#PC\n",
    "df = df[(df['dch_pic50'] >7 )]\n",
    "df.to_csv(f'Model/SrcTyr_with_valid_{feature}.csv', index=None)"
   ]
  },
  {
   "cell_type": "markdown",
   "id": "ee5e3cfb",
   "metadata": {},
   "source": [
    "### GNN_can\n"
   ]
  },
  {
   "cell_type": "code",
   "execution_count": null,
   "id": "240da7d2",
   "metadata": {},
   "outputs": [],
   "source": [
    "df = df_copy.copy()\n",
    "\n",
    "feature= 'GNN_CAN_SMI_ALL'\n",
    "\n",
    "#GNN_can\n",
    "df = df[(df['Pos_2'] > 0.5) & (df['dch_pic50_2'] > 7 )]\n",
    "df.to_csv(f'Model/SrcTyr_with_valid_{feature}.csv', index=None)"
   ]
  },
  {
   "cell_type": "code",
   "execution_count": null,
   "id": "fa25ab66",
   "metadata": {},
   "outputs": [],
   "source": [
    "df = df_copy.copy()\n",
    "\n",
    "feature= 'GNN_can_SMI_POST'\n",
    "\n",
    "#POST_CAN\n",
    "df = df[(df['Pos_2'] > 0.5)]\n",
    "df.to_csv(f'Model/SrcTyr_with_valid_{feature}.csv', index=None)"
   ]
  },
  {
   "cell_type": "code",
   "execution_count": null,
   "id": "7688bdc1",
   "metadata": {},
   "outputs": [],
   "source": [
    "df = df_copy.copy()\n",
    "\n",
    "feature= 'GNN_can_SMI_pIC'\n",
    "\n",
    "#PC_CAN\n",
    "df = df[(df['dch_pic50_2'] > 7 )]\n",
    "df.to_csv(f'Model/SrcTyr_with_valid_{feature}.csv', index=None)"
   ]
  },
  {
   "cell_type": "code",
   "execution_count": null,
   "id": "c73ff9cc",
   "metadata": {},
   "outputs": [],
   "source": [
    "df = df_copy.copy()\n",
    "\n",
    "feature= 'GNN_ALL'\n",
    "\n",
    "#GNN_ALL\n",
    "df = df[(df['Pos'] > 0.5 ) & (df['Pos_2'] > 0.5) & (df['dch_pic50'] >7 ) & (df['dch_pic50_2'] > 7 )]\n",
    "df.to_csv(f'Model/SrcTyr_with_valid_{feature}.csv', index=None)"
   ]
  },
  {
   "cell_type": "code",
   "execution_count": null,
   "id": "3a59666b",
   "metadata": {},
   "outputs": [],
   "source": []
  },
  {
   "cell_type": "code",
   "execution_count": null,
   "id": "20a9daad",
   "metadata": {},
   "outputs": [],
   "source": []
  }
 ],
 "metadata": {
  "kernelspec": {
   "display_name": "Python 3 (ipykernel)",
   "language": "python",
   "name": "python3"
  },
  "language_info": {
   "codemirror_mode": {
    "name": "ipython",
    "version": 3
   },
   "file_extension": ".py",
   "mimetype": "text/x-python",
   "name": "python",
   "nbconvert_exporter": "python",
   "pygments_lexer": "ipython3",
   "version": "3.9.12"
  }
 },
 "nbformat": 4,
 "nbformat_minor": 5
}
